{
  "nbformat": 4,
  "nbformat_minor": 0,
  "metadata": {
    "colab": {
      "provenance": []
    },
    "kernelspec": {
      "name": "python3",
      "display_name": "Python 3"
    },
    "language_info": {
      "name": "python"
    }
  },
  "cells": [
    {
      "cell_type": "code",
      "execution_count": null,
      "metadata": {
        "id": "_82LVTyNYH_V"
      },
      "outputs": [],
      "source": [
        "from geopy.distance import geodesic\n",
        "from sortedcontainers import SortedDict\n",
        "\n",
        "def calculate_distance(location1, location2):\n",
        "    return geodesic(location1, location2).kilometers\n",
        "\n",
        "def calculate_delivery_time(distance, courier_speed):\n",
        "    return distance / courier_speed\n",
        "\n",
        "def assign_orders(orders, couriers, courier_speed):\n",
        "    courier_schedule = {courier: [] for courier in couriers}\n",
        "    unassigned_orders = []\n",
        "\n",
        "    for order in orders:\n",
        "        distances = {courier: calculate_distance(courier_location, order['location_A']) for courier, courier_location in couriers.items()}\n",
        "        estimated_delivery_times = {courier: calculate_delivery_time(distance, courier_speed) for courier, distance in distances.items()}\n",
        "        best_courier = min(estimated_delivery_times, key=estimated_delivery_times.get)\n",
        "        courier_schedule[best_courier].append(order)\n",
        "\n",
        "    for courier in couriers:\n",
        "        if not courier_schedule[courier]:\n",
        "            unassigned_orders.append(courier)\n",
        "\n",
        "    return courier_schedule, unassigned_orders\n",
        "\n",
        "orders = [\n",
        "    {'location_A': (52, 21.01), 'location_B': (100.3, 22), 'cost': 100},\n",
        "    # Добавьте другие заказы\n",
        "]\n",
        "\n",
        "couriers = {\n",
        "    'courier1': (52, 21),\n",
        "    'courier2': (55, 20),\n",
        "    # Добавьте других курьеров\n",
        "}\n",
        "\n",
        "courier_speed = 30  # Км/ч\n",
        "\n",
        "schedule, unassigned = assign_orders(orders, couriers, courier_speed)\n",
        "for courier, assigned_orders in schedule.items():\n",
        "    if assigned_orders:\n",
        "        print(f'Курьер {courier} получил заказы:')\n",
        "        for order in assigned_orders:\n",
        "            print(order)\n",
        "    else:\n",
        "        print(f'Курьер {courier} - ожидает заказов')"
      ]
    }
  ]
}